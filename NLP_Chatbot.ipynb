{
  "nbformat": 4,
  "nbformat_minor": 0,
  "metadata": {
    "colab": {
      "name": "NLP-Chatbot.ipynb",
      "provenance": [],
      "collapsed_sections": [],
      "authorship_tag": "ABX9TyPus+j1q/E1sK4nf2xM+zDf",
      "include_colab_link": true
    },
    "kernelspec": {
      "name": "python3",
      "display_name": "Python 3"
    },
    "language_info": {
      "name": "python"
    },
    "accelerator": "GPU"
  },
  "cells": [
    {
      "cell_type": "markdown",
      "metadata": {
        "id": "view-in-github",
        "colab_type": "text"
      },
      "source": [
        "<a href=\"https://colab.research.google.com/github/hardik-kgp/NLP-Chatbot/blob/master/NLP_Chatbot.ipynb\" target=\"_parent\"><img src=\"https://colab.research.google.com/assets/colab-badge.svg\" alt=\"Open In Colab\"/></a>"
      ]
    },
    {
      "cell_type": "code",
      "metadata": {
        "id": "s1m1XDEs-JR6"
      },
      "source": [
        "import os\n",
        "import json\n",
        "import gzip\n",
        "import pandas as pd\n",
        "from urllib.request import urlopen"
      ],
      "execution_count": null,
      "outputs": []
    },
    {
      "cell_type": "code",
      "metadata": {
        "colab": {
          "base_uri": "https://localhost:8080/"
        },
        "id": "uoVwrnUd81a2",
        "outputId": "4b4dd001-776e-4467-a40a-c54321af8ba6"
      },
      "source": [
        "from google.colab import drive\n",
        "drive.mount('/content/drive', force_remount=True)"
      ],
      "execution_count": null,
      "outputs": [
        {
          "output_type": "stream",
          "name": "stdout",
          "text": [
            "Mounted at /content/drive\n"
          ]
        }
      ]
    },
    {
      "cell_type": "code",
      "metadata": {
        "id": "8QSiFdZZ1SzB"
      },
      "source": [
        "import pandas as pd\n",
        "import gzip\n",
        "\n",
        "def parse(path):\n",
        "  g = gzip.open(path, 'rb')\n",
        "  for l in g:\n",
        "    yield json.loads(l)\n",
        "\n",
        "def getDF(path):\n",
        "  i = 0\n",
        "  df = {}\n",
        "  for d in parse(path):\n",
        "    df[i] = d\n",
        "    i += 1\n",
        "  return pd.DataFrame.from_dict(df, orient='index')\n",
        "\n",
        "df = getDF('drive/MyDrive/NLP-Chatbot/meta_Appliances.json.gz')"
      ],
      "execution_count": null,
      "outputs": []
    },
    {
      "cell_type": "code",
      "metadata": {
        "id": "TSfO82jCEa-R",
        "colab": {
          "base_uri": "https://localhost:8080/"
        },
        "outputId": "b6531211-ed04-4caa-de90-6c1b863c7e94"
      },
      "source": [
        "print(df.columns.tolist())"
      ],
      "execution_count": null,
      "outputs": [
        {
          "output_type": "stream",
          "name": "stdout",
          "text": [
            "['category', 'tech1', 'description', 'fit', 'title', 'also_buy', 'tech2', 'brand', 'feature', 'rank', 'also_view', 'details', 'main_cat', 'similar_item', 'date', 'price', 'asin', 'imageURL', 'imageURLHighRes']\n"
          ]
        }
      ]
    },
    {
      "cell_type": "code",
      "metadata": {
        "id": "-NI7X_SbFuVh"
      },
      "source": [
        "move_column = df.pop('asin')\n",
        "df.insert(0, 'product_id', move_column)"
      ],
      "execution_count": null,
      "outputs": []
    },
    {
      "cell_type": "code",
      "metadata": {
        "colab": {
          "base_uri": "https://localhost:8080/"
        },
        "id": "FqLJMvDFGUto",
        "outputId": "077de74f-1eb9-4e73-def2-36b3225a9a98"
      },
      "source": [
        "print(df.columns.tolist())"
      ],
      "execution_count": null,
      "outputs": [
        {
          "output_type": "stream",
          "name": "stdout",
          "text": [
            "['product_id', 'category', 'tech1', 'description', 'fit', 'title', 'also_buy', 'tech2', 'brand', 'feature', 'rank', 'also_view', 'details', 'main_cat', 'similar_item', 'date', 'price', 'imageURL', 'imageURLHighRes']\n"
          ]
        }
      ]
    },
    {
      "cell_type": "code",
      "metadata": {
        "id": "1lRhwkkWGWg7"
      },
      "source": [
        "move_column = df.pop('title')\n",
        "df.insert(1, 'title', move_column)"
      ],
      "execution_count": null,
      "outputs": []
    },
    {
      "cell_type": "code",
      "metadata": {
        "colab": {
          "base_uri": "https://localhost:8080/"
        },
        "id": "W1zIA2XuGuBq",
        "outputId": "77f5f4cc-d0a8-4cc3-bcc4-efe33c950d3b"
      },
      "source": [
        "print(df.columns.tolist())"
      ],
      "execution_count": null,
      "outputs": [
        {
          "output_type": "stream",
          "name": "stdout",
          "text": [
            "['product_id', 'title', 'category', 'tech1', 'description', 'fit', 'also_buy', 'tech2', 'brand', 'feature', 'rank', 'also_view', 'details', 'main_cat', 'similar_item', 'date', 'price', 'imageURL', 'imageURLHighRes']\n"
          ]
        }
      ]
    },
    {
      "cell_type": "code",
      "metadata": {
        "id": "lXmruURrGvtX"
      },
      "source": [
        "move_column = df.pop('imageURLHighRes')\n",
        "df.insert(2, 'imageURLHighRes', move_column)"
      ],
      "execution_count": null,
      "outputs": []
    },
    {
      "cell_type": "code",
      "metadata": {
        "colab": {
          "base_uri": "https://localhost:8080/",
          "height": 626
        },
        "id": "U4iMCjygHLGe",
        "outputId": "db032aa8-396b-46e8-c532-37ed0d8ac8d2"
      },
      "source": [
        "df.head()"
      ],
      "execution_count": null,
      "outputs": [
        {
          "output_type": "execute_result",
          "data": {
            "text/html": [
              "<div>\n",
              "<style scoped>\n",
              "    .dataframe tbody tr th:only-of-type {\n",
              "        vertical-align: middle;\n",
              "    }\n",
              "\n",
              "    .dataframe tbody tr th {\n",
              "        vertical-align: top;\n",
              "    }\n",
              "\n",
              "    .dataframe thead th {\n",
              "        text-align: right;\n",
              "    }\n",
              "</style>\n",
              "<table border=\"1\" class=\"dataframe\">\n",
              "  <thead>\n",
              "    <tr style=\"text-align: right;\">\n",
              "      <th></th>\n",
              "      <th>product_id</th>\n",
              "      <th>title</th>\n",
              "      <th>imageURLHighRes</th>\n",
              "      <th>category</th>\n",
              "      <th>tech1</th>\n",
              "      <th>description</th>\n",
              "      <th>fit</th>\n",
              "      <th>also_buy</th>\n",
              "      <th>tech2</th>\n",
              "      <th>brand</th>\n",
              "      <th>feature</th>\n",
              "      <th>rank</th>\n",
              "      <th>also_view</th>\n",
              "      <th>details</th>\n",
              "      <th>main_cat</th>\n",
              "      <th>similar_item</th>\n",
              "      <th>date</th>\n",
              "      <th>price</th>\n",
              "      <th>imageURL</th>\n",
              "    </tr>\n",
              "  </thead>\n",
              "  <tbody>\n",
              "    <tr>\n",
              "      <th>0</th>\n",
              "      <td>7301113188</td>\n",
              "      <td>Tupperware Freezer Square Round Container Set ...</td>\n",
              "      <td>[]</td>\n",
              "      <td>[Appliances, Refrigerators, Freezers &amp; Ice Mak...</td>\n",
              "      <td>class=\"a-keyvalue prodDetTable\" role=\"present...</td>\n",
              "      <td>[]</td>\n",
              "      <td></td>\n",
              "      <td>[]</td>\n",
              "      <td></td>\n",
              "      <td>Tupperware</td>\n",
              "      <td>[Each 3-pc. set includes two 7/8-cup/200 mL an...</td>\n",
              "      <td>[&gt;#39,745 in Appliances (See top 100)]</td>\n",
              "      <td>[]</td>\n",
              "      <td>{}</td>\n",
              "      <td>Appliances</td>\n",
              "      <td></td>\n",
              "      <td>November 19, 2008</td>\n",
              "      <td></td>\n",
              "      <td>[]</td>\n",
              "    </tr>\n",
              "    <tr>\n",
              "      <th>1</th>\n",
              "      <td>7861850250</td>\n",
              "      <td>2 X Tupperware Pure &amp;amp; Fresh Unique Covered...</td>\n",
              "      <td>[https://images-na.ssl-images-amazon.com/image...</td>\n",
              "      <td>[Appliances, Refrigerators, Freezers &amp; Ice Mak...</td>\n",
              "      <td>class=\"a-keyvalue prodDetTable\" role=\"present...</td>\n",
              "      <td>[2 X Tupperware Pure &amp; Fresh Unique Covered Co...</td>\n",
              "      <td></td>\n",
              "      <td>[]</td>\n",
              "      <td></td>\n",
              "      <td>Tupperware</td>\n",
              "      <td>[2 X Tupperware Pure &amp; Fresh Unique Covered Co...</td>\n",
              "      <td>[&gt;#6,118 in Appliances (See top 100)]</td>\n",
              "      <td>[B004RUGHJW]</td>\n",
              "      <td>{}</td>\n",
              "      <td>Appliances</td>\n",
              "      <td></td>\n",
              "      <td>June 5, 2016</td>\n",
              "      <td>$3.62</td>\n",
              "      <td>[https://images-na.ssl-images-amazon.com/image...</td>\n",
              "    </tr>\n",
              "    <tr>\n",
              "      <th>2</th>\n",
              "      <td>8792559360</td>\n",
              "      <td>The Cigar - Moments of Pleasure</td>\n",
              "      <td>[https://images-na.ssl-images-amazon.com/image...</td>\n",
              "      <td>[Appliances, Parts &amp;amp; Accessories]</td>\n",
              "      <td></td>\n",
              "      <td>[]</td>\n",
              "      <td></td>\n",
              "      <td>[]</td>\n",
              "      <td></td>\n",
              "      <td>The Cigar Book</td>\n",
              "      <td>[]</td>\n",
              "      <td>[&gt;#1,861,816 in Home &amp;amp; Kitchen (See Top 10...</td>\n",
              "      <td>[B01HCAVSLK, 1632206579]</td>\n",
              "      <td>{}</td>\n",
              "      <td>Amazon Home</td>\n",
              "      <td></td>\n",
              "      <td></td>\n",
              "      <td>$150.26</td>\n",
              "      <td>[https://images-na.ssl-images-amazon.com/image...</td>\n",
              "    </tr>\n",
              "    <tr>\n",
              "      <th>3</th>\n",
              "      <td>9792954481</td>\n",
              "      <td>Caraselle 2X 50G Appliance Descalene</td>\n",
              "      <td>[https://images-na.ssl-images-amazon.com/image...</td>\n",
              "      <td>[Appliances, Parts &amp; Accessories]</td>\n",
              "      <td>class=\"a-keyvalue prodDetTable\" role=\"present...</td>\n",
              "      <td>[Multi purpost descaler, especially suited to ...</td>\n",
              "      <td></td>\n",
              "      <td>[]</td>\n",
              "      <td></td>\n",
              "      <td>Caraselle</td>\n",
              "      <td>[]</td>\n",
              "      <td>[&gt;#1,654,505 in Tools &amp; Home Improvement (See ...</td>\n",
              "      <td>[]</td>\n",
              "      <td>{}</td>\n",
              "      <td>Tools &amp; Home Improvement</td>\n",
              "      <td></td>\n",
              "      <td>December 17, 2014</td>\n",
              "      <td>.a-box-inner{background-color:#fff}#alohaBuyBo...</td>\n",
              "      <td>[https://images-na.ssl-images-amazon.com/image...</td>\n",
              "    </tr>\n",
              "    <tr>\n",
              "      <th>4</th>\n",
              "      <td>B00002N5EL</td>\n",
              "      <td>EATON Wiring 39CH-SP-L Arrow Hart 1-Gang Chrom...</td>\n",
              "      <td>[]</td>\n",
              "      <td>[Appliances, Parts &amp; Accessories, Range Parts ...</td>\n",
              "      <td>class=\"a-keyvalue prodDetTable\" role=\"present...</td>\n",
              "      <td>[Full gauge and size beveled-edge; furnished w...</td>\n",
              "      <td></td>\n",
              "      <td>[]</td>\n",
              "      <td></td>\n",
              "      <td>EATON Wiring</td>\n",
              "      <td>[Returns will not be honored on this closeout ...</td>\n",
              "      <td>[&gt;#3,066,990 in Tools &amp; Home Improvement (See ...</td>\n",
              "      <td>[]</td>\n",
              "      <td>{}</td>\n",
              "      <td>Tools &amp; Home Improvement</td>\n",
              "      <td></td>\n",
              "      <td>January 16, 2007</td>\n",
              "      <td>$3.43</td>\n",
              "      <td>[]</td>\n",
              "    </tr>\n",
              "  </tbody>\n",
              "</table>\n",
              "</div>"
            ],
            "text/plain": [
              "   product_id  ...                                           imageURL\n",
              "0  7301113188  ...                                                 []\n",
              "1  7861850250  ...  [https://images-na.ssl-images-amazon.com/image...\n",
              "2  8792559360  ...  [https://images-na.ssl-images-amazon.com/image...\n",
              "3  9792954481  ...  [https://images-na.ssl-images-amazon.com/image...\n",
              "4  B00002N5EL  ...                                                 []\n",
              "\n",
              "[5 rows x 19 columns]"
            ]
          },
          "metadata": {},
          "execution_count": 10
        }
      ]
    },
    {
      "cell_type": "code",
      "metadata": {
        "colab": {
          "base_uri": "https://localhost:8080/",
          "height": 1000
        },
        "id": "15I8ruaLHa7v",
        "outputId": "2a72e99e-5f73-4427-b6bd-b8ac9137d316"
      },
      "source": [
        "df.drop(['imageURL'], axis = 1)"
      ],
      "execution_count": null,
      "outputs": [
        {
          "output_type": "execute_result",
          "data": {
            "text/html": [
              "<div>\n",
              "<style scoped>\n",
              "    .dataframe tbody tr th:only-of-type {\n",
              "        vertical-align: middle;\n",
              "    }\n",
              "\n",
              "    .dataframe tbody tr th {\n",
              "        vertical-align: top;\n",
              "    }\n",
              "\n",
              "    .dataframe thead th {\n",
              "        text-align: right;\n",
              "    }\n",
              "</style>\n",
              "<table border=\"1\" class=\"dataframe\">\n",
              "  <thead>\n",
              "    <tr style=\"text-align: right;\">\n",
              "      <th></th>\n",
              "      <th>product_id</th>\n",
              "      <th>title</th>\n",
              "      <th>imageURLHighRes</th>\n",
              "      <th>category</th>\n",
              "      <th>tech1</th>\n",
              "      <th>description</th>\n",
              "      <th>fit</th>\n",
              "      <th>also_buy</th>\n",
              "      <th>tech2</th>\n",
              "      <th>brand</th>\n",
              "      <th>feature</th>\n",
              "      <th>rank</th>\n",
              "      <th>also_view</th>\n",
              "      <th>details</th>\n",
              "      <th>main_cat</th>\n",
              "      <th>similar_item</th>\n",
              "      <th>date</th>\n",
              "      <th>price</th>\n",
              "    </tr>\n",
              "  </thead>\n",
              "  <tbody>\n",
              "    <tr>\n",
              "      <th>0</th>\n",
              "      <td>7301113188</td>\n",
              "      <td>Tupperware Freezer Square Round Container Set ...</td>\n",
              "      <td>[]</td>\n",
              "      <td>[Appliances, Refrigerators, Freezers &amp; Ice Mak...</td>\n",
              "      <td>class=\"a-keyvalue prodDetTable\" role=\"present...</td>\n",
              "      <td>[]</td>\n",
              "      <td></td>\n",
              "      <td>[]</td>\n",
              "      <td></td>\n",
              "      <td>Tupperware</td>\n",
              "      <td>[Each 3-pc. set includes two 7/8-cup/200 mL an...</td>\n",
              "      <td>[&gt;#39,745 in Appliances (See top 100)]</td>\n",
              "      <td>[]</td>\n",
              "      <td>{}</td>\n",
              "      <td>Appliances</td>\n",
              "      <td></td>\n",
              "      <td>November 19, 2008</td>\n",
              "      <td></td>\n",
              "    </tr>\n",
              "    <tr>\n",
              "      <th>1</th>\n",
              "      <td>7861850250</td>\n",
              "      <td>2 X Tupperware Pure &amp;amp; Fresh Unique Covered...</td>\n",
              "      <td>[https://images-na.ssl-images-amazon.com/image...</td>\n",
              "      <td>[Appliances, Refrigerators, Freezers &amp; Ice Mak...</td>\n",
              "      <td>class=\"a-keyvalue prodDetTable\" role=\"present...</td>\n",
              "      <td>[2 X Tupperware Pure &amp; Fresh Unique Covered Co...</td>\n",
              "      <td></td>\n",
              "      <td>[]</td>\n",
              "      <td></td>\n",
              "      <td>Tupperware</td>\n",
              "      <td>[2 X Tupperware Pure &amp; Fresh Unique Covered Co...</td>\n",
              "      <td>[&gt;#6,118 in Appliances (See top 100)]</td>\n",
              "      <td>[B004RUGHJW]</td>\n",
              "      <td>{}</td>\n",
              "      <td>Appliances</td>\n",
              "      <td></td>\n",
              "      <td>June 5, 2016</td>\n",
              "      <td>$3.62</td>\n",
              "    </tr>\n",
              "    <tr>\n",
              "      <th>2</th>\n",
              "      <td>8792559360</td>\n",
              "      <td>The Cigar - Moments of Pleasure</td>\n",
              "      <td>[https://images-na.ssl-images-amazon.com/image...</td>\n",
              "      <td>[Appliances, Parts &amp;amp; Accessories]</td>\n",
              "      <td></td>\n",
              "      <td>[]</td>\n",
              "      <td></td>\n",
              "      <td>[]</td>\n",
              "      <td></td>\n",
              "      <td>The Cigar Book</td>\n",
              "      <td>[]</td>\n",
              "      <td>[&gt;#1,861,816 in Home &amp;amp; Kitchen (See Top 10...</td>\n",
              "      <td>[B01HCAVSLK, 1632206579]</td>\n",
              "      <td>{}</td>\n",
              "      <td>Amazon Home</td>\n",
              "      <td></td>\n",
              "      <td></td>\n",
              "      <td>$150.26</td>\n",
              "    </tr>\n",
              "    <tr>\n",
              "      <th>3</th>\n",
              "      <td>9792954481</td>\n",
              "      <td>Caraselle 2X 50G Appliance Descalene</td>\n",
              "      <td>[https://images-na.ssl-images-amazon.com/image...</td>\n",
              "      <td>[Appliances, Parts &amp; Accessories]</td>\n",
              "      <td>class=\"a-keyvalue prodDetTable\" role=\"present...</td>\n",
              "      <td>[Multi purpost descaler, especially suited to ...</td>\n",
              "      <td></td>\n",
              "      <td>[]</td>\n",
              "      <td></td>\n",
              "      <td>Caraselle</td>\n",
              "      <td>[]</td>\n",
              "      <td>[&gt;#1,654,505 in Tools &amp; Home Improvement (See ...</td>\n",
              "      <td>[]</td>\n",
              "      <td>{}</td>\n",
              "      <td>Tools &amp; Home Improvement</td>\n",
              "      <td></td>\n",
              "      <td>December 17, 2014</td>\n",
              "      <td>.a-box-inner{background-color:#fff}#alohaBuyBo...</td>\n",
              "    </tr>\n",
              "    <tr>\n",
              "      <th>4</th>\n",
              "      <td>B00002N5EL</td>\n",
              "      <td>EATON Wiring 39CH-SP-L Arrow Hart 1-Gang Chrom...</td>\n",
              "      <td>[]</td>\n",
              "      <td>[Appliances, Parts &amp; Accessories, Range Parts ...</td>\n",
              "      <td>class=\"a-keyvalue prodDetTable\" role=\"present...</td>\n",
              "      <td>[Full gauge and size beveled-edge; furnished w...</td>\n",
              "      <td></td>\n",
              "      <td>[]</td>\n",
              "      <td></td>\n",
              "      <td>EATON Wiring</td>\n",
              "      <td>[Returns will not be honored on this closeout ...</td>\n",
              "      <td>[&gt;#3,066,990 in Tools &amp; Home Improvement (See ...</td>\n",
              "      <td>[]</td>\n",
              "      <td>{}</td>\n",
              "      <td>Tools &amp; Home Improvement</td>\n",
              "      <td></td>\n",
              "      <td>January 16, 2007</td>\n",
              "      <td>$3.43</td>\n",
              "    </tr>\n",
              "    <tr>\n",
              "      <th>...</th>\n",
              "      <td>...</td>\n",
              "      <td>...</td>\n",
              "      <td>...</td>\n",
              "      <td>...</td>\n",
              "      <td>...</td>\n",
              "      <td>...</td>\n",
              "      <td>...</td>\n",
              "      <td>...</td>\n",
              "      <td>...</td>\n",
              "      <td>...</td>\n",
              "      <td>...</td>\n",
              "      <td>...</td>\n",
              "      <td>...</td>\n",
              "      <td>...</td>\n",
              "      <td>...</td>\n",
              "      <td>...</td>\n",
              "      <td>...</td>\n",
              "      <td>...</td>\n",
              "    </tr>\n",
              "    <tr>\n",
              "      <th>30440</th>\n",
              "      <td>B01HJH92JQ</td>\n",
              "      <td>Bosch 00175338 Switch</td>\n",
              "      <td>[]</td>\n",
              "      <td>[Appliances, Parts &amp; Accessories]</td>\n",
              "      <td>class=\"a-keyvalue prodDetTable\" role=\"present...</td>\n",
              "      <td>[This is an authorized aftermarket product. Fi...</td>\n",
              "      <td></td>\n",
              "      <td>[]</td>\n",
              "      <td></td>\n",
              "      <td>Bosch</td>\n",
              "      <td>[This is an O.E.M. Authorized part, Fits with ...</td>\n",
              "      <td>[&gt;#1,565,533 in Tools &amp; Home Improvement (See ...</td>\n",
              "      <td>[]</td>\n",
              "      <td>{}</td>\n",
              "      <td>Tools &amp; Home Improvement</td>\n",
              "      <td></td>\n",
              "      <td>June 25, 2016</td>\n",
              "      <td>$40.23</td>\n",
              "    </tr>\n",
              "    <tr>\n",
              "      <th>30441</th>\n",
              "      <td>B01HJH2I5G</td>\n",
              "      <td>Bosch 00478807 Panel-Facia</td>\n",
              "      <td>[https://images-na.ssl-images-amazon.com/image...</td>\n",
              "      <td>[Appliances, Parts &amp; Accessories]</td>\n",
              "      <td>class=\"a-keyvalue prodDetTable\" role=\"present...</td>\n",
              "      <td>[This is an authorized aftermarket product. Fi...</td>\n",
              "      <td></td>\n",
              "      <td>[]</td>\n",
              "      <td></td>\n",
              "      <td>Bosch</td>\n",
              "      <td>[This is an O.E.M. Authorized part, Fits with ...</td>\n",
              "      <td>[&gt;#640,724 in Tools &amp; Home Improvement (See to...</td>\n",
              "      <td>[B004Q3XUJA, B004T0GLW8, B00K433QFY, B01HJH2PY...</td>\n",
              "      <td>{}</td>\n",
              "      <td>Tools &amp; Home Improvement</td>\n",
              "      <td></td>\n",
              "      <td>March 3, 2010</td>\n",
              "      <td>$95.99</td>\n",
              "    </tr>\n",
              "    <tr>\n",
              "      <th>30442</th>\n",
              "      <td>B01HJH0J1G</td>\n",
              "      <td>Bosch 00649288 Ice Maker</td>\n",
              "      <td>[]</td>\n",
              "      <td>[Appliances, Parts &amp; Accessories]</td>\n",
              "      <td>class=\"a-keyvalue prodDetTable\" role=\"present...</td>\n",
              "      <td>[This is an authorized aftermarket product. Fi...</td>\n",
              "      <td></td>\n",
              "      <td>[]</td>\n",
              "      <td></td>\n",
              "      <td>Bosch</td>\n",
              "      <td>[This is an O.E.M. Authorized part, Fits with ...</td>\n",
              "      <td>[&gt;#759,045 in Tools &amp; Home Improvement (See to...</td>\n",
              "      <td>[B004XL2U1O, B002SZPM5I, B01HJH0J4S]</td>\n",
              "      <td>{}</td>\n",
              "      <td>Tools &amp; Home Improvement</td>\n",
              "      <td>class=\"a-bordered a-horizontal-stripes  a-spa...</td>\n",
              "      <td>June 25, 2016</td>\n",
              "      <td>$250.79</td>\n",
              "    </tr>\n",
              "    <tr>\n",
              "      <th>30443</th>\n",
              "      <td>B01HJHHEA0</td>\n",
              "      <td>Frigidaire 316543810 Knob</td>\n",
              "      <td>[https://images-na.ssl-images-amazon.com/image...</td>\n",
              "      <td>[Appliances, Parts &amp; Accessories, Range Parts ...</td>\n",
              "      <td>class=\"a-keyvalue prodDetTable\" role=\"present...</td>\n",
              "      <td>[This is an O.E.M. Authorized part. Fits with ...</td>\n",
              "      <td></td>\n",
              "      <td>[B00O9ZFAF2]</td>\n",
              "      <td></td>\n",
              "      <td>Frigidaire</td>\n",
              "      <td>[This is an O.E.M. Authorized part, Fits with ...</td>\n",
              "      <td>[&gt;#531,402 in Tools &amp; Home Improvement (See to...</td>\n",
              "      <td>[]</td>\n",
              "      <td>{}</td>\n",
              "      <td>Tools &amp; Home Improvement</td>\n",
              "      <td>class=\"a-bordered a-horizontal-stripes  a-spa...</td>\n",
              "      <td>June 25, 2016</td>\n",
              "      <td>$14.99</td>\n",
              "    </tr>\n",
              "    <tr>\n",
              "      <th>30444</th>\n",
              "      <td>B01HJH397M</td>\n",
              "      <td>Bosch 00674704 Pump-Drain</td>\n",
              "      <td>[https://images-na.ssl-images-amazon.com/image...</td>\n",
              "      <td>[Appliances, Parts &amp; Accessories]</td>\n",
              "      <td>class=\"a-keyvalue prodDetTable\" role=\"present...</td>\n",
              "      <td>[This is an authorized aftermarket product. Fi...</td>\n",
              "      <td></td>\n",
              "      <td>[]</td>\n",
              "      <td></td>\n",
              "      <td>Bosch</td>\n",
              "      <td>[This is an O.E.M. Authorized part, Fits with ...</td>\n",
              "      <td>[&gt;#111,931 in Tools &amp; Home Improvement (See to...</td>\n",
              "      <td>[B014HE4MPS, B001DPP650, B01BZ759VQ, B016NBZ96...</td>\n",
              "      <td>{}</td>\n",
              "      <td>Tools &amp; Home Improvement</td>\n",
              "      <td>class=\"a-bordered a-horizontal-stripes  a-spa...</td>\n",
              "      <td>April 10, 2010</td>\n",
              "      <td>$64.99</td>\n",
              "    </tr>\n",
              "  </tbody>\n",
              "</table>\n",
              "<p>30445 rows × 18 columns</p>\n",
              "</div>"
            ],
            "text/plain": [
              "       product_id  ...                                              price\n",
              "0      7301113188  ...                                                   \n",
              "1      7861850250  ...                                              $3.62\n",
              "2      8792559360  ...                                            $150.26\n",
              "3      9792954481  ...  .a-box-inner{background-color:#fff}#alohaBuyBo...\n",
              "4      B00002N5EL  ...                                              $3.43\n",
              "...           ...  ...                                                ...\n",
              "30440  B01HJH92JQ  ...                                             $40.23\n",
              "30441  B01HJH2I5G  ...                                             $95.99\n",
              "30442  B01HJH0J1G  ...                                            $250.79\n",
              "30443  B01HJHHEA0  ...                                             $14.99\n",
              "30444  B01HJH397M  ...                                             $64.99\n",
              "\n",
              "[30445 rows x 18 columns]"
            ]
          },
          "metadata": {},
          "execution_count": 11
        }
      ]
    },
    {
      "cell_type": "code",
      "metadata": {
        "colab": {
          "base_uri": "https://localhost:8080/"
        },
        "id": "Lf0cIuoIH1Or",
        "outputId": "84cea141-e232-4e68-ad70-94d58b496f8d"
      },
      "source": [
        "print(df.columns.tolist())"
      ],
      "execution_count": null,
      "outputs": [
        {
          "output_type": "stream",
          "name": "stdout",
          "text": [
            "['product_id', 'title', 'imageURLHighRes', 'category', 'tech1', 'description', 'fit', 'also_buy', 'tech2', 'brand', 'feature', 'rank', 'also_view', 'details', 'main_cat', 'similar_item', 'date', 'price', 'imageURL']\n"
          ]
        }
      ]
    },
    {
      "cell_type": "code",
      "metadata": {
        "id": "EjS8Bl4bH99K"
      },
      "source": [
        "move_column = df.pop('description')\n",
        "df.insert(3, 'description', move_column)"
      ],
      "execution_count": null,
      "outputs": []
    },
    {
      "cell_type": "code",
      "metadata": {
        "colab": {
          "base_uri": "https://localhost:8080/"
        },
        "id": "SinjBv8coBZU",
        "outputId": "2c79220b-68f7-4ca4-a4aa-9f8e0e6394d4"
      },
      "source": [
        "print(df.columns.tolist())"
      ],
      "execution_count": null,
      "outputs": [
        {
          "output_type": "stream",
          "name": "stdout",
          "text": [
            "['product_id', 'title', 'imageURLHighRes', 'description', 'category', 'tech1', 'fit', 'also_buy', 'tech2', 'brand', 'feature', 'rank', 'also_view', 'details', 'main_cat', 'similar_item', 'date', 'price', 'imageURL']\n"
          ]
        }
      ]
    },
    {
      "cell_type": "code",
      "metadata": {
        "id": "ygy9LMdUoDYz"
      },
      "source": [
        "move_column = df.pop('feature')\n",
        "df.insert(4, 'feature', move_column)"
      ],
      "execution_count": null,
      "outputs": []
    },
    {
      "cell_type": "code",
      "metadata": {
        "colab": {
          "base_uri": "https://localhost:8080/"
        },
        "id": "8bmB5CAHoXkQ",
        "outputId": "2958d34a-d4b3-4977-ac57-41e6d61ff53e"
      },
      "source": [
        "print(df.columns.tolist())"
      ],
      "execution_count": null,
      "outputs": [
        {
          "output_type": "stream",
          "name": "stdout",
          "text": [
            "['product_id', 'title', 'imageURLHighRes', 'description', 'feature', 'category', 'tech1', 'fit', 'also_buy', 'tech2', 'brand', 'rank', 'also_view', 'details', 'main_cat', 'similar_item', 'date', 'price', 'imageURL']\n"
          ]
        }
      ]
    },
    {
      "cell_type": "code",
      "metadata": {
        "id": "8zz1Rd1foZ7q"
      },
      "source": [
        "move_column = df.pop('price')\n",
        "df.insert(5, 'price', move_column)"
      ],
      "execution_count": null,
      "outputs": []
    },
    {
      "cell_type": "code",
      "metadata": {
        "colab": {
          "base_uri": "https://localhost:8080/"
        },
        "id": "AWEYT07toiZC",
        "outputId": "6f5ec849-bf13-483e-ff8f-388fa52fe2f5"
      },
      "source": [
        "print(df.columns.tolist())"
      ],
      "execution_count": null,
      "outputs": [
        {
          "output_type": "stream",
          "name": "stdout",
          "text": [
            "['product_id', 'title', 'imageURLHighRes', 'description', 'feature', 'price', 'category', 'tech1', 'fit', 'also_buy', 'tech2', 'brand', 'rank', 'also_view', 'details', 'main_cat', 'similar_item', 'date', 'imageURL']\n"
          ]
        }
      ]
    },
    {
      "cell_type": "code",
      "metadata": {
        "id": "1TTyuVcKokO1"
      },
      "source": [
        "move_column = df.pop('rank')\n",
        "df.insert(3, 'rank', move_column)"
      ],
      "execution_count": null,
      "outputs": []
    },
    {
      "cell_type": "code",
      "metadata": {
        "colab": {
          "base_uri": "https://localhost:8080/"
        },
        "id": "yelTpz4ApTHG",
        "outputId": "d853db58-e779-4d8e-efd3-4edf63313098"
      },
      "source": [
        "print(df.columns.tolist())"
      ],
      "execution_count": null,
      "outputs": [
        {
          "output_type": "stream",
          "name": "stdout",
          "text": [
            "['product_id', 'title', 'imageURLHighRes', 'rank', 'description', 'feature', 'price', 'category', 'tech1', 'fit', 'also_buy', 'tech2', 'brand', 'also_view', 'details', 'main_cat', 'similar_item', 'date', 'imageURL']\n"
          ]
        }
      ]
    },
    {
      "cell_type": "code",
      "metadata": {
        "id": "bnKEe0AhpUsg"
      },
      "source": [
        "move_column = df.pop('brand')\n",
        "df.insert(4, 'brand', move_column)"
      ],
      "execution_count": null,
      "outputs": []
    },
    {
      "cell_type": "code",
      "metadata": {
        "colab": {
          "base_uri": "https://localhost:8080/"
        },
        "id": "rfaof5SvpmYO",
        "outputId": "f3af538c-d904-4862-b0f2-c4c89297e3e1"
      },
      "source": [
        "print(df.columns.tolist())"
      ],
      "execution_count": null,
      "outputs": [
        {
          "output_type": "stream",
          "name": "stdout",
          "text": [
            "['product_id', 'title', 'imageURLHighRes', 'rank', 'brand', 'description', 'feature', 'price', 'category', 'tech1', 'fit', 'also_buy', 'tech2', 'also_view', 'details', 'main_cat', 'similar_item', 'date', 'imageURL']\n"
          ]
        }
      ]
    },
    {
      "cell_type": "code",
      "metadata": {
        "id": "U3n6jEArpoHw"
      },
      "source": [
        "move_column = df.pop('category')\n",
        "df.insert(3, 'category', move_column)"
      ],
      "execution_count": null,
      "outputs": []
    },
    {
      "cell_type": "code",
      "metadata": {
        "id": "nYw-UjzgqW4s"
      },
      "source": [
        "move_column = df.pop('main_cat')\n",
        "df.insert(4, 'main_cat', move_column)"
      ],
      "execution_count": null,
      "outputs": []
    },
    {
      "cell_type": "code",
      "metadata": {
        "colab": {
          "base_uri": "https://localhost:8080/"
        },
        "id": "mXk-_7U-qeZH",
        "outputId": "8adba33d-8bf2-44e3-f368-7daa7e3fe103"
      },
      "source": [
        "print(df.columns.tolist())"
      ],
      "execution_count": null,
      "outputs": [
        {
          "output_type": "stream",
          "name": "stdout",
          "text": [
            "['product_id', 'title', 'imageURLHighRes', 'category', 'main_cat', 'rank', 'brand', 'description', 'feature', 'price', 'tech1', 'fit', 'also_buy', 'tech2', 'also_view', 'details', 'similar_item', 'date', 'imageURL']\n"
          ]
        }
      ]
    },
    {
      "cell_type": "code",
      "metadata": {
        "colab": {
          "base_uri": "https://localhost:8080/",
          "height": 626
        },
        "id": "Pp5ANUGvqf5W",
        "outputId": "97fe3ae0-6b16-47f9-9f31-813303448d25"
      },
      "source": [
        "df.head()"
      ],
      "execution_count": null,
      "outputs": [
        {
          "output_type": "execute_result",
          "data": {
            "text/html": [
              "<div>\n",
              "<style scoped>\n",
              "    .dataframe tbody tr th:only-of-type {\n",
              "        vertical-align: middle;\n",
              "    }\n",
              "\n",
              "    .dataframe tbody tr th {\n",
              "        vertical-align: top;\n",
              "    }\n",
              "\n",
              "    .dataframe thead th {\n",
              "        text-align: right;\n",
              "    }\n",
              "</style>\n",
              "<table border=\"1\" class=\"dataframe\">\n",
              "  <thead>\n",
              "    <tr style=\"text-align: right;\">\n",
              "      <th></th>\n",
              "      <th>product_id</th>\n",
              "      <th>title</th>\n",
              "      <th>imageURLHighRes</th>\n",
              "      <th>category</th>\n",
              "      <th>main_cat</th>\n",
              "      <th>rank</th>\n",
              "      <th>brand</th>\n",
              "      <th>description</th>\n",
              "      <th>feature</th>\n",
              "      <th>price</th>\n",
              "      <th>tech1</th>\n",
              "      <th>fit</th>\n",
              "      <th>also_buy</th>\n",
              "      <th>tech2</th>\n",
              "      <th>also_view</th>\n",
              "      <th>details</th>\n",
              "      <th>similar_item</th>\n",
              "      <th>date</th>\n",
              "      <th>imageURL</th>\n",
              "    </tr>\n",
              "  </thead>\n",
              "  <tbody>\n",
              "    <tr>\n",
              "      <th>0</th>\n",
              "      <td>7301113188</td>\n",
              "      <td>Tupperware Freezer Square Round Container Set ...</td>\n",
              "      <td>[]</td>\n",
              "      <td>[Appliances, Refrigerators, Freezers &amp; Ice Mak...</td>\n",
              "      <td>Appliances</td>\n",
              "      <td>[&gt;#39,745 in Appliances (See top 100)]</td>\n",
              "      <td>Tupperware</td>\n",
              "      <td>[]</td>\n",
              "      <td>[Each 3-pc. set includes two 7/8-cup/200 mL an...</td>\n",
              "      <td></td>\n",
              "      <td>class=\"a-keyvalue prodDetTable\" role=\"present...</td>\n",
              "      <td></td>\n",
              "      <td>[]</td>\n",
              "      <td></td>\n",
              "      <td>[]</td>\n",
              "      <td>{}</td>\n",
              "      <td></td>\n",
              "      <td>November 19, 2008</td>\n",
              "      <td>[]</td>\n",
              "    </tr>\n",
              "    <tr>\n",
              "      <th>1</th>\n",
              "      <td>7861850250</td>\n",
              "      <td>2 X Tupperware Pure &amp;amp; Fresh Unique Covered...</td>\n",
              "      <td>[https://images-na.ssl-images-amazon.com/image...</td>\n",
              "      <td>[Appliances, Refrigerators, Freezers &amp; Ice Mak...</td>\n",
              "      <td>Appliances</td>\n",
              "      <td>[&gt;#6,118 in Appliances (See top 100)]</td>\n",
              "      <td>Tupperware</td>\n",
              "      <td>[2 X Tupperware Pure &amp; Fresh Unique Covered Co...</td>\n",
              "      <td>[2 X Tupperware Pure &amp; Fresh Unique Covered Co...</td>\n",
              "      <td>$3.62</td>\n",
              "      <td>class=\"a-keyvalue prodDetTable\" role=\"present...</td>\n",
              "      <td></td>\n",
              "      <td>[]</td>\n",
              "      <td></td>\n",
              "      <td>[B004RUGHJW]</td>\n",
              "      <td>{}</td>\n",
              "      <td></td>\n",
              "      <td>June 5, 2016</td>\n",
              "      <td>[https://images-na.ssl-images-amazon.com/image...</td>\n",
              "    </tr>\n",
              "    <tr>\n",
              "      <th>2</th>\n",
              "      <td>8792559360</td>\n",
              "      <td>The Cigar - Moments of Pleasure</td>\n",
              "      <td>[https://images-na.ssl-images-amazon.com/image...</td>\n",
              "      <td>[Appliances, Parts &amp;amp; Accessories]</td>\n",
              "      <td>Amazon Home</td>\n",
              "      <td>[&gt;#1,861,816 in Home &amp;amp; Kitchen (See Top 10...</td>\n",
              "      <td>The Cigar Book</td>\n",
              "      <td>[]</td>\n",
              "      <td>[]</td>\n",
              "      <td>$150.26</td>\n",
              "      <td></td>\n",
              "      <td></td>\n",
              "      <td>[]</td>\n",
              "      <td></td>\n",
              "      <td>[B01HCAVSLK, 1632206579]</td>\n",
              "      <td>{}</td>\n",
              "      <td></td>\n",
              "      <td></td>\n",
              "      <td>[https://images-na.ssl-images-amazon.com/image...</td>\n",
              "    </tr>\n",
              "    <tr>\n",
              "      <th>3</th>\n",
              "      <td>9792954481</td>\n",
              "      <td>Caraselle 2X 50G Appliance Descalene</td>\n",
              "      <td>[https://images-na.ssl-images-amazon.com/image...</td>\n",
              "      <td>[Appliances, Parts &amp; Accessories]</td>\n",
              "      <td>Tools &amp; Home Improvement</td>\n",
              "      <td>[&gt;#1,654,505 in Tools &amp; Home Improvement (See ...</td>\n",
              "      <td>Caraselle</td>\n",
              "      <td>[Multi purpost descaler, especially suited to ...</td>\n",
              "      <td>[]</td>\n",
              "      <td>.a-box-inner{background-color:#fff}#alohaBuyBo...</td>\n",
              "      <td>class=\"a-keyvalue prodDetTable\" role=\"present...</td>\n",
              "      <td></td>\n",
              "      <td>[]</td>\n",
              "      <td></td>\n",
              "      <td>[]</td>\n",
              "      <td>{}</td>\n",
              "      <td></td>\n",
              "      <td>December 17, 2014</td>\n",
              "      <td>[https://images-na.ssl-images-amazon.com/image...</td>\n",
              "    </tr>\n",
              "    <tr>\n",
              "      <th>4</th>\n",
              "      <td>B00002N5EL</td>\n",
              "      <td>EATON Wiring 39CH-SP-L Arrow Hart 1-Gang Chrom...</td>\n",
              "      <td>[]</td>\n",
              "      <td>[Appliances, Parts &amp; Accessories, Range Parts ...</td>\n",
              "      <td>Tools &amp; Home Improvement</td>\n",
              "      <td>[&gt;#3,066,990 in Tools &amp; Home Improvement (See ...</td>\n",
              "      <td>EATON Wiring</td>\n",
              "      <td>[Full gauge and size beveled-edge; furnished w...</td>\n",
              "      <td>[Returns will not be honored on this closeout ...</td>\n",
              "      <td>$3.43</td>\n",
              "      <td>class=\"a-keyvalue prodDetTable\" role=\"present...</td>\n",
              "      <td></td>\n",
              "      <td>[]</td>\n",
              "      <td></td>\n",
              "      <td>[]</td>\n",
              "      <td>{}</td>\n",
              "      <td></td>\n",
              "      <td>January 16, 2007</td>\n",
              "      <td>[]</td>\n",
              "    </tr>\n",
              "  </tbody>\n",
              "</table>\n",
              "</div>"
            ],
            "text/plain": [
              "   product_id  ...                                           imageURL\n",
              "0  7301113188  ...                                                 []\n",
              "1  7861850250  ...  [https://images-na.ssl-images-amazon.com/image...\n",
              "2  8792559360  ...  [https://images-na.ssl-images-amazon.com/image...\n",
              "3  9792954481  ...  [https://images-na.ssl-images-amazon.com/image...\n",
              "4  B00002N5EL  ...                                                 []\n",
              "\n",
              "[5 rows x 19 columns]"
            ]
          },
          "metadata": {},
          "execution_count": 26
        }
      ]
    },
    {
      "cell_type": "code",
      "metadata": {
        "id": "VXGT8ju1qlG2"
      },
      "source": [
        "df1 = df.drop(df.loc[:, 'tech1':'imageURL'].columns, axis = 1)"
      ],
      "execution_count": null,
      "outputs": []
    },
    {
      "cell_type": "code",
      "metadata": {
        "colab": {
          "base_uri": "https://localhost:8080/",
          "height": 606
        },
        "id": "sMRii3Mnwtc3",
        "outputId": "3e606c11-cd86-4a7e-d6fb-cb08a7068f19"
      },
      "source": [
        "df1.head()"
      ],
      "execution_count": null,
      "outputs": [
        {
          "output_type": "execute_result",
          "data": {
            "text/html": [
              "<div>\n",
              "<style scoped>\n",
              "    .dataframe tbody tr th:only-of-type {\n",
              "        vertical-align: middle;\n",
              "    }\n",
              "\n",
              "    .dataframe tbody tr th {\n",
              "        vertical-align: top;\n",
              "    }\n",
              "\n",
              "    .dataframe thead th {\n",
              "        text-align: right;\n",
              "    }\n",
              "</style>\n",
              "<table border=\"1\" class=\"dataframe\">\n",
              "  <thead>\n",
              "    <tr style=\"text-align: right;\">\n",
              "      <th></th>\n",
              "      <th>product_id</th>\n",
              "      <th>title</th>\n",
              "      <th>imageURLHighRes</th>\n",
              "      <th>category</th>\n",
              "      <th>main_cat</th>\n",
              "      <th>rank</th>\n",
              "      <th>brand</th>\n",
              "      <th>description</th>\n",
              "      <th>feature</th>\n",
              "      <th>price</th>\n",
              "    </tr>\n",
              "  </thead>\n",
              "  <tbody>\n",
              "    <tr>\n",
              "      <th>0</th>\n",
              "      <td>7301113188</td>\n",
              "      <td>Tupperware Freezer Square Round Container Set ...</td>\n",
              "      <td>[]</td>\n",
              "      <td>[Appliances, Refrigerators, Freezers &amp; Ice Mak...</td>\n",
              "      <td>Appliances</td>\n",
              "      <td>[&gt;#39,745 in Appliances (See top 100)]</td>\n",
              "      <td>Tupperware</td>\n",
              "      <td>[]</td>\n",
              "      <td>[Each 3-pc. set includes two 7/8-cup/200 mL an...</td>\n",
              "      <td></td>\n",
              "    </tr>\n",
              "    <tr>\n",
              "      <th>1</th>\n",
              "      <td>7861850250</td>\n",
              "      <td>2 X Tupperware Pure &amp;amp; Fresh Unique Covered...</td>\n",
              "      <td>[https://images-na.ssl-images-amazon.com/image...</td>\n",
              "      <td>[Appliances, Refrigerators, Freezers &amp; Ice Mak...</td>\n",
              "      <td>Appliances</td>\n",
              "      <td>[&gt;#6,118 in Appliances (See top 100)]</td>\n",
              "      <td>Tupperware</td>\n",
              "      <td>[2 X Tupperware Pure &amp; Fresh Unique Covered Co...</td>\n",
              "      <td>[2 X Tupperware Pure &amp; Fresh Unique Covered Co...</td>\n",
              "      <td>$3.62</td>\n",
              "    </tr>\n",
              "    <tr>\n",
              "      <th>2</th>\n",
              "      <td>8792559360</td>\n",
              "      <td>The Cigar - Moments of Pleasure</td>\n",
              "      <td>[https://images-na.ssl-images-amazon.com/image...</td>\n",
              "      <td>[Appliances, Parts &amp;amp; Accessories]</td>\n",
              "      <td>Amazon Home</td>\n",
              "      <td>[&gt;#1,861,816 in Home &amp;amp; Kitchen (See Top 10...</td>\n",
              "      <td>The Cigar Book</td>\n",
              "      <td>[]</td>\n",
              "      <td>[]</td>\n",
              "      <td>$150.26</td>\n",
              "    </tr>\n",
              "    <tr>\n",
              "      <th>3</th>\n",
              "      <td>9792954481</td>\n",
              "      <td>Caraselle 2X 50G Appliance Descalene</td>\n",
              "      <td>[https://images-na.ssl-images-amazon.com/image...</td>\n",
              "      <td>[Appliances, Parts &amp; Accessories]</td>\n",
              "      <td>Tools &amp; Home Improvement</td>\n",
              "      <td>[&gt;#1,654,505 in Tools &amp; Home Improvement (See ...</td>\n",
              "      <td>Caraselle</td>\n",
              "      <td>[Multi purpost descaler, especially suited to ...</td>\n",
              "      <td>[]</td>\n",
              "      <td>.a-box-inner{background-color:#fff}#alohaBuyBo...</td>\n",
              "    </tr>\n",
              "    <tr>\n",
              "      <th>4</th>\n",
              "      <td>B00002N5EL</td>\n",
              "      <td>EATON Wiring 39CH-SP-L Arrow Hart 1-Gang Chrom...</td>\n",
              "      <td>[]</td>\n",
              "      <td>[Appliances, Parts &amp; Accessories, Range Parts ...</td>\n",
              "      <td>Tools &amp; Home Improvement</td>\n",
              "      <td>[&gt;#3,066,990 in Tools &amp; Home Improvement (See ...</td>\n",
              "      <td>EATON Wiring</td>\n",
              "      <td>[Full gauge and size beveled-edge; furnished w...</td>\n",
              "      <td>[Returns will not be honored on this closeout ...</td>\n",
              "      <td>$3.43</td>\n",
              "    </tr>\n",
              "  </tbody>\n",
              "</table>\n",
              "</div>"
            ],
            "text/plain": [
              "   product_id  ...                                              price\n",
              "0  7301113188  ...                                                   \n",
              "1  7861850250  ...                                              $3.62\n",
              "2  8792559360  ...                                            $150.26\n",
              "3  9792954481  ...  .a-box-inner{background-color:#fff}#alohaBuyBo...\n",
              "4  B00002N5EL  ...                                              $3.43\n",
              "\n",
              "[5 rows x 10 columns]"
            ]
          },
          "metadata": {},
          "execution_count": 30
        }
      ]
    },
    {
      "cell_type": "code",
      "metadata": {
        "id": "AvltiJcdreCL"
      },
      "source": [
        "df1.to_csv('data1.csv')"
      ],
      "execution_count": null,
      "outputs": []
    },
    {
      "cell_type": "code",
      "metadata": {
        "id": "tDWZvUc9r96x"
      },
      "source": [
        ""
      ],
      "execution_count": null,
      "outputs": []
    }
  ]
}